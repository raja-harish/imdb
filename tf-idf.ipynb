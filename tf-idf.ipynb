{
 "cells": [
  {
   "cell_type": "code",
   "execution_count": 1,
   "metadata": {},
   "outputs": [],
   "source": [
    "import numpy as np\n",
    "import matplotlib.pyplot as plt\n",
    "import pandas as pd\n",
    "import os\n",
    "\n",
    "#import re\n",
    "#import nltk\n",
    "#from nltk.corpus import stopwords\n",
    "#from nltk.stem.porter import PorterStemmer\n",
    "\n",
    "import time\n",
    "from datetime import timedelta"
   ]
  },
  {
   "cell_type": "code",
   "execution_count": 2,
   "metadata": {},
   "outputs": [],
   "source": [
    "def elapsed_time(start_time, end_time):\n",
    "    elapsed_time_secs = end_time - start_time\n",
    "    return timedelta(seconds=round(elapsed_time_secs))"
   ]
  },
  {
   "cell_type": "code",
   "execution_count": 4,
   "metadata": {},
   "outputs": [],
   "source": [
    "import pickle"
   ]
  },
  {
   "cell_type": "code",
   "execution_count": 5,
   "metadata": {},
   "outputs": [],
   "source": [
    "#loading lemma corpus\n",
    "filename = 'C:/Users/Harish/Downloads/NLP_code/IMDB/corpus/imdb_lemma_corpus.sav'\n",
    "lem_corpus = pickle.load(open(filename, 'rb'))"
   ]
  },
  {
   "cell_type": "code",
   "execution_count": 4,
   "metadata": {
    "scrolled": false
   },
   "outputs": [
    {
     "name": "stdout",
     "output_type": "stream",
     "text": [
      "Time taken to execute:  0:00:17\n"
     ]
    }
   ],
   "source": [
    "from sklearn.feature_extraction.text import TfidfVectorizer\n",
    "\n",
    "start_time = time.time()\n",
    "tfidf = TfidfVectorizer(ngram_range=(1, 1))\n",
    "X = tfidf.fit_transform(lem_corpus).toarray()\n",
    "end_time = time.time()\n",
    "\n",
    "print(\"Time taken to execute: \", elapsed_time(start_time, end_time))"
   ]
  },
  {
   "cell_type": "code",
   "execution_count": 6,
   "metadata": {},
   "outputs": [],
   "source": [
    "#dumping tfidf \n",
    "filename = 'C:/Users/Harish/Downloads/NLP_code/IMDB/corpus/imdb_Tfidf_vectorizer.pkl'\n",
    "pickle.dump(tfidf, open(filename, 'wb'))"
   ]
  },
  {
   "cell_type": "code",
   "execution_count": 5,
   "metadata": {},
   "outputs": [],
   "source": [
    "#filename = 'C:/Users/Harish/Downloads/NLP_code/IMDB/corpus/imdb_Tfidf_vectorizer.pkl'\n",
    "#tfidf=pickle.load(open(filename, 'rb'))"
   ]
  },
  {
   "cell_type": "code",
   "execution_count": 6,
   "metadata": {},
   "outputs": [],
   "source": [
    "imdb_train=pd.read_csv('C:\\\\Users\\\\Harish\\\\Downloads\\\\NLP_code\\\\IMDB\\\\data\\\\imdb_train.csv')\n",
    "y = imdb_train['polarity'].values"
   ]
  },
  {
   "cell_type": "code",
   "execution_count": 7,
   "metadata": {},
   "outputs": [],
   "source": [
    "imdb_test=pd.read_csv('C:\\\\Users\\\\Harish\\\\Downloads\\\\NLP_code\\\\IMDB\\\\data\\\\imdb_test.csv')\n",
    "y_test = imdb_test['polarity'].values"
   ]
  },
  {
   "cell_type": "code",
   "execution_count": 9,
   "metadata": {},
   "outputs": [
    {
     "name": "stderr",
     "output_type": "stream",
     "text": [
      "C:\\Users\\Harish\\AppData\\Local\\Continuum\\anaconda3\\lib\\site-packages\\sklearn\\linear_model\\stochastic_gradient.py:128: FutureWarning: max_iter and tol parameters have been added in <class 'sklearn.linear_model.stochastic_gradient.SGDClassifier'> in 0.19. If both are left unset, they default to max_iter=5 and tol=None. If tol is not None, max_iter defaults to max_iter=1000. From 0.21, default max_iter will be 1000, and default tol will be 1e-3.\n",
      "  \"and default tol will be 1e-3.\" % type(self), FutureWarning)\n"
     ]
    },
    {
     "name": "stdout",
     "output_type": "stream",
     "text": [
      "0.93956\n"
     ]
    }
   ],
   "source": [
    "from sklearn.linear_model import SGDClassifier\n",
    "from sklearn.metrics import accuracy_score\n",
    "\n",
    "lm = SGDClassifier()\n",
    "lm = lm.fit(X, y)\n",
    "y_pred = lm.predict(X) \n",
    "accu = accuracy_score(y, y_pred)\n",
    "print(accu)"
   ]
  },
  {
   "cell_type": "code",
   "execution_count": 10,
   "metadata": {},
   "outputs": [],
   "source": [
    "#dumping linear model built using tfidf\n",
    "filename = 'C:/Users/Harish/Downloads/NLP_code/IMDB/corpus/imdb_linear_model.pkl'\n",
    "pickle.dump(lm, open(filename, 'wb'))"
   ]
  },
  {
   "cell_type": "code",
   "execution_count": 12,
   "metadata": {},
   "outputs": [],
   "source": [
    "#loading test lemma corpus\n",
    "filename = 'C:/Users/Harish/Downloads/NLP_code/IMDB/corpus/imdb_test_lemma_corpus.sav'\n",
    "lem_test_corpus = pickle.load(open(filename, 'rb'))"
   ]
  },
  {
   "cell_type": "code",
   "execution_count": 7,
   "metadata": {},
   "outputs": [],
   "source": [
    "# loading tfidf model\n",
    "filename = 'C:/Users/Harish/Downloads/NLP_code/IMDB/corpus/imdb_Tfidf_vectorizer.pkl'\n",
    "tfidf = pickle.load(open(filename, 'rb'))"
   ]
  },
  {
   "cell_type": "code",
   "execution_count": 8,
   "metadata": {
    "scrolled": false
   },
   "outputs": [
    {
     "name": "stdout",
     "output_type": "stream",
     "text": [
      "Time taken to execute:  0:00:12\n"
     ]
    }
   ],
   "source": [
    "from sklearn.feature_extraction.text import TfidfVectorizer\n",
    "start_time = time.time()\n",
    "#tfidf = TfidfVectorizer(ngram_range=(1, 1))\n",
    "X_test = tfidf.transform(lem_test_corpus).toarray()\n",
    "end_time = time.time()\n",
    "\n",
    "print(\"Time taken to execute: \", elapsed_time(start_time, end_time))"
   ]
  },
  {
   "cell_type": "code",
   "execution_count": 9,
   "metadata": {},
   "outputs": [],
   "source": [
    "filename = 'C:/Users/Harish/Downloads/NLP_code/IMDB/corpus/imdb_linear_model.pkl'\n",
    "lm_test=pickle.load(open(filename, 'rb'))"
   ]
  },
  {
   "cell_type": "code",
   "execution_count": 10,
   "metadata": {
    "scrolled": true
   },
   "outputs": [
    {
     "name": "stderr",
     "output_type": "stream",
     "text": [
      "C:\\Users\\Harish\\AppData\\Local\\Continuum\\anaconda3\\lib\\site-packages\\sklearn\\linear_model\\stochastic_gradient.py:128: FutureWarning: max_iter and tol parameters have been added in <class 'sklearn.linear_model.stochastic_gradient.SGDClassifier'> in 0.19. If both are left unset, they default to max_iter=5 and tol=None. If tol is not None, max_iter defaults to max_iter=1000. From 0.21, default max_iter will be 1000, and default tol will be 1e-3.\n",
      "  \"and default tol will be 1e-3.\" % type(self), FutureWarning)\n"
     ]
    },
    {
     "name": "stdout",
     "output_type": "stream",
     "text": [
      "0.94408\n"
     ]
    }
   ],
   "source": [
    "from sklearn.linear_model import SGDClassifier\n",
    "from sklearn.metrics import accuracy_score\n",
    "\n",
    "lm_test = lm_test.fit(X_test, y_test)\n",
    "y_pred = lm_test.predict(X_test) \n",
    "accu = accuracy_score(y_test, y_pred)\n",
    "print(accu)"
   ]
  },
  {
   "cell_type": "markdown",
   "metadata": {},
   "source": [
    "# Hashing Vectorizer"
   ]
  },
  {
   "cell_type": "code",
   "execution_count": 16,
   "metadata": {},
   "outputs": [
    {
     "name": "stdout",
     "output_type": "stream",
     "text": [
      "Time taken to execute:  0:00:06\n"
     ]
    }
   ],
   "source": [
    "from sklearn.feature_extraction.text import HashingVectorizer\n",
    "\n",
    "start_time = time.time()\n",
    "hv = HashingVectorizer(ngram_range=(1, 1), n_features=2**15)\n",
    "X = hv.fit_transform(lem_corpus).toarray()\n",
    "end_time = time.time()\n",
    "\n",
    "print(\"Time taken to execute: \", elapsed_time(start_time, end_time))"
   ]
  },
  {
   "cell_type": "code",
   "execution_count": 17,
   "metadata": {},
   "outputs": [],
   "source": [
    "filename = './imdb_hashing_vectorizer.pkl'\n",
    "pickle.dump(hv, open(filename, 'wb'))"
   ]
  },
  {
   "cell_type": "code",
   "execution_count": 18,
   "metadata": {},
   "outputs": [
    {
     "name": "stdout",
     "output_type": "stream",
     "text": [
      "0.87252\n"
     ]
    }
   ],
   "source": [
    "from sklearn.linear_model import SGDClassifier\n",
    "from sklearn.metrics import accuracy_score\n",
    "\n",
    "lm = SGDClassifier()\n",
    "lm = lm.fit(X, y)\n",
    "y_pred = lm.predict(X) \n",
    "accu = accuracy_score(y, y_pred)\n",
    "print(accu)"
   ]
  },
  {
   "cell_type": "code",
   "execution_count": 19,
   "metadata": {},
   "outputs": [],
   "source": [
    "X_test = hv.transform(lem_test_corpus).toarray()\n",
    "y_test = y = imdb_train['polarity'].values"
   ]
  },
  {
   "cell_type": "code",
   "execution_count": 20,
   "metadata": {},
   "outputs": [
    {
     "name": "stdout",
     "output_type": "stream",
     "text": [
      "0.50008\n"
     ]
    }
   ],
   "source": [
    "y_test_pred = lm.predict(X_test) \n",
    "accu = accuracy_score(y_test, y_test_pred)\n",
    "print(accu)"
   ]
  },
  {
   "cell_type": "code",
   "execution_count": null,
   "metadata": {},
   "outputs": [],
   "source": []
  }
 ],
 "metadata": {
  "kernelspec": {
   "display_name": "Python 3",
   "language": "python",
   "name": "python3"
  },
  "language_info": {
   "codemirror_mode": {
    "name": "ipython",
    "version": 3
   },
   "file_extension": ".py",
   "mimetype": "text/x-python",
   "name": "python",
   "nbconvert_exporter": "python",
   "pygments_lexer": "ipython3",
   "version": "3.7.3"
  }
 },
 "nbformat": 4,
 "nbformat_minor": 2
}
